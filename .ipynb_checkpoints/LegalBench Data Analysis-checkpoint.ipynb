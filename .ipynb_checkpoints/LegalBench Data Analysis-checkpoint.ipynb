{
 "cells": [
  {
   "cell_type": "code",
   "execution_count": 30,
   "id": "9e548c03-d94f-457a-94a7-2b8db2b8f6b9",
   "metadata": {},
   "outputs": [],
   "source": [
    "import pandas as pd\n",
    "import os\n",
    "from collections import Counter\n",
    "import string\n",
    "import json\n",
    "import matplotlib.pyplot as plt\n",
    "from tqdm import tqdm"
   ]
  },
  {
   "cell_type": "code",
   "execution_count": 3,
   "id": "beec1cc9-ce22-4331-9123-9da5262ab54b",
   "metadata": {},
   "outputs": [],
   "source": [
    "pd.set_option('display.max_colwidth', None)"
   ]
  },
  {
   "cell_type": "markdown",
   "id": "a871cdaf-dc22-4895-820c-d512e4913219",
   "metadata": {},
   "source": [
    "## How many tasks are binary classfication tasks?"
   ]
  },
  {
   "cell_type": "code",
   "execution_count": 4,
   "id": "3986e19c-f32c-47e2-b48c-abba9e69751f",
   "metadata": {},
   "outputs": [
    {
     "name": "stdout",
     "output_type": "stream",
     "text": [
      "total task count: 163\n"
     ]
    }
   ],
   "source": [
    "tasks_dir = 'legalbench/static-eval/legalbench/'\n",
    "tasks = [d for d in os.listdir(tasks_dir) if os.path.isdir(os.path.join(tasks_dir, d))]\n",
    "print('total task count: {}'.format(len(tasks)))"
   ]
  },
  {
   "cell_type": "code",
   "execution_count": 13,
   "id": "06428cb6-7862-4781-8b3c-d8bd01cf0212",
   "metadata": {},
   "outputs": [
    {
     "name": "stdout",
     "output_type": "stream",
     "text": [
      "EXCEPTION in task scalr: FileNotFoundError(2, 'No such file or directory')\n"
     ]
    }
   ],
   "source": [
    "label_dict = {}  # {task: labels, type} dict\n",
    "for task in sorted(tasks):\n",
    "    label_dict[task] = {'labels':[], 'type':''}\n",
    "    try:\n",
    "        # get train.tsv file\n",
    "        train = pd.read_csv(os.path.join(tasks_dir, task, 'train.tsv'), sep='\\t')\n",
    "        # get labels\n",
    "        train.columns = [x.lower() for x in train.columns]\n",
    "        if 'label' in train.columns:\n",
    "            label_col = 'label'\n",
    "        elif 'answer' in train.columns:\n",
    "            label_col = 'answer'\n",
    "        labels = list(set(list(train[label_col])))\n",
    "        label_dict[task]['labels'] = labels\n",
    "    except Exception as e:\n",
    "        print('EXCEPTION in task {}: {}'.format(task, repr(e)))"
   ]
  },
  {
   "cell_type": "code",
   "execution_count": 31,
   "id": "6039feda-c155-4cdf-9cee-5d96ebf99b62",
   "metadata": {},
   "outputs": [],
   "source": [
    "for task in label_dict:\n",
    "    if len(label_dict[task]['labels']) == 2:\n",
    "        if sorted(l.lower() for l in label_dict[task]['labels']) == ['no', 'yes']:\n",
    "            label_dict[task]['type'] = 'binary_yes_no'\n",
    "        else:\n",
    "            label_dict[task]['type'] = 'binary_other'\n",
    "    elif len(label_dict[task]['labels']) == 1:\n",
    "        if label_dict[task]['labels'][0].lower() in string.ascii_lowercase:\n",
    "            label_dict[task]['type'] = 'multiple_choice'  # maud multiple-choice\n",
    "        elif label_dict[task]['labels'][0].lower() in {'yes', 'no'}:\n",
    "            label_dict[task]['type'] = 'binary_yes_no'\n",
    "    elif len(label_dict[task]['labels']) > 2:\n",
    "        if all(l.lower() in string.ascii_lowercase for l in label_dict[task]['labels']):\n",
    "            label_dict[task]['type'] = 'multiple_choice'\n",
    "        else:\n",
    "            label_dict[task]['type'] = 'multi_class'\n",
    "    else:\n",
    "        # no labels\n",
    "        label_dict[task]['type'] = 'no_label'"
   ]
  },
  {
   "cell_type": "code",
   "execution_count": 32,
   "id": "0627f61e-596b-4cf3-b45a-041b5e80b147",
   "metadata": {},
   "outputs": [
    {
     "data": {
      "text/plain": [
       "[('binary_yes_no', 109),\n",
       " ('multiple_choice', 36),\n",
       " ('multi_class', 11),\n",
       " ('binary_other', 5),\n",
       " ('no_label', 2)]"
      ]
     },
     "execution_count": 32,
     "metadata": {},
     "output_type": "execute_result"
    }
   ],
   "source": [
    "Counter(label_dict[t]['type'] for t in label_dict).most_common()"
   ]
  },
  {
   "cell_type": "code",
   "execution_count": 10,
   "id": "d87badbd-9ba7-401c-9639-464ddfd1ad78",
   "metadata": {},
   "outputs": [
    {
     "data": {
      "image/png": "[encoded data removed]",
      "text/plain": [
       "<Figure size 432x288 with 1 Axes>"
      ]
     },
     "metadata": {
      "needs_background": "light"
     },
     "output_type": "display_data"
    }
   ],
   "source": [
    "plt.hist([task_label_dict[t]['type'] for t in task_label_dict])\n",
    "plt.show()"
   ]
  },
  {
   "cell_type": "code",
   "execution_count": 33,
   "id": "a9f84aef-d3c6-417c-8b44-4203762b6ec4",
   "metadata": {},
   "outputs": [],
   "source": [
    "def show_tasks_by_type(task_type):\n",
    "    data = [(t, label_dict[t]['labels']) for t in label_dict if label_dict[t]['type']==task_type]\n",
    "    print('{} tasks with type: {}'.format(len(data), task_type))\n",
    "    df = pd.DataFrame(data, columns=['task', 'labels'])\n",
    "    return df"
   ]
  },
  {
   "cell_type": "code",
   "execution_count": 34,
   "id": "338b4678-86cc-4f65-b779-46d38af3fc62",
   "metadata": {},
   "outputs": [
    {
     "name": "stdout",
     "output_type": "stream",
     "text": [
      "5 tasks with type: binary_other\n"
     ]
    },
    {
     "data": {
      "text/html": [
       "<div>\n",
       "<style scoped>\n",
       "    .dataframe tbody tr th:only-of-type {\n",
       "        vertical-align: middle;\n",
       "    }\n",
       "\n",
       "    .dataframe tbody tr th {\n",
       "        vertical-align: top;\n",
       "    }\n",
       "\n",
       "    .dataframe thead th {\n",
       "        text-align: right;\n",
       "    }\n",
       "</style>\n",
       "<table border=\"1\" class=\"dataframe\">\n",
       "  <thead>\n",
       "    <tr style=\"text-align: right;\">\n",
       "      <th></th>\n",
       "      <th>task</th>\n",
       "      <th>labels</th>\n",
       "    </tr>\n",
       "  </thead>\n",
       "  <tbody>\n",
       "    <tr>\n",
       "      <th>0</th>\n",
       "      <td>citation_prediction_open</td>\n",
       "      <td>[Jones v. Robinson Prop. Grp., L.P., Phillips v. AWH Corp.]</td>\n",
       "    </tr>\n",
       "    <tr>\n",
       "      <th>1</th>\n",
       "      <td>privacy_policy_entailment</td>\n",
       "      <td>[Incorrect, Correct]</td>\n",
       "    </tr>\n",
       "    <tr>\n",
       "      <th>2</th>\n",
       "      <td>privacy_policy_qa</td>\n",
       "      <td>[Irrelevant, Relevant]</td>\n",
       "    </tr>\n",
       "    <tr>\n",
       "      <th>3</th>\n",
       "      <td>sara_entailment</td>\n",
       "      <td>[Contradiction, Entailment]</td>\n",
       "    </tr>\n",
       "    <tr>\n",
       "      <th>4</th>\n",
       "      <td>ucc_v_common_law</td>\n",
       "      <td>[UCC, Common Law]</td>\n",
       "    </tr>\n",
       "  </tbody>\n",
       "</table>\n",
       "</div>"
      ],
      "text/plain": [
       "                        task  \\\n",
       "0   citation_prediction_open   \n",
       "1  privacy_policy_entailment   \n",
       "2          privacy_policy_qa   \n",
       "3            sara_entailment   \n",
       "4           ucc_v_common_law   \n",
       "\n",
       "                                                        labels  \n",
       "0  [Jones v. Robinson Prop. Grp., L.P., Phillips v. AWH Corp.]  \n",
       "1                                         [Incorrect, Correct]  \n",
       "2                                       [Irrelevant, Relevant]  \n",
       "3                                  [Contradiction, Entailment]  \n",
       "4                                            [UCC, Common Law]  "
      ]
     },
     "execution_count": 34,
     "metadata": {},
     "output_type": "execute_result"
    }
   ],
   "source": [
    "df = show_tasks_by_type('binary_other')\n",
    "df.head(len(df))"
   ]
  },
  {
   "cell_type": "code",
   "execution_count": 35,
   "id": "19fa7b2d-2485-4aa8-b51d-b5676f8529c7",
   "metadata": {},
   "outputs": [
    {
     "name": "stdout",
     "output_type": "stream",
     "text": [
      "11 tasks with type: multi_class\n"
     ]
    },
    {
     "data": {
      "text/html": [
       "<div>\n",
       "<style scoped>\n",
       "    .dataframe tbody tr th:only-of-type {\n",
       "        vertical-align: middle;\n",
       "    }\n",
       "\n",
       "    .dataframe tbody tr th {\n",
       "        vertical-align: top;\n",
       "    }\n",
       "\n",
       "    .dataframe thead th {\n",
       "        text-align: right;\n",
       "    }\n",
       "</style>\n",
       "<table border=\"1\" class=\"dataframe\">\n",
       "  <thead>\n",
       "    <tr style=\"text-align: right;\">\n",
       "      <th></th>\n",
       "      <th>task</th>\n",
       "      <th>labels</th>\n",
       "    </tr>\n",
       "  </thead>\n",
       "  <tbody>\n",
       "    <tr>\n",
       "      <th>0</th>\n",
       "      <td>abercrombie</td>\n",
       "      <td>[arbitrary, fanciful, generic, descriptive, suggestive]</td>\n",
       "    </tr>\n",
       "    <tr>\n",
       "      <th>1</th>\n",
       "      <td>canada_tax_court_outcomes</td>\n",
       "      <td>[dismissed, other, allowed]</td>\n",
       "    </tr>\n",
       "    <tr>\n",
       "      <th>2</th>\n",
       "      <td>definition_extraction</td>\n",
       "      <td>[hawkers and peddlers, banking, assessment, information, decision, statute, traffic, land]</td>\n",
       "    </tr>\n",
       "    <tr>\n",
       "      <th>3</th>\n",
       "      <td>function_of_decision_section</td>\n",
       "      <td>[Analysis, Procedural History, Conclusion, Issue, Decree, Rule, Facts]</td>\n",
       "    </tr>\n",
       "    <tr>\n",
       "      <th>4</th>\n",
       "      <td>oral_argument_question_purpose</td>\n",
       "      <td>[Criticism, Clarification, Support, Humor, Implications, Background, Communicate]</td>\n",
       "    </tr>\n",
       "    <tr>\n",
       "      <th>5</th>\n",
       "      <td>sara_numeric</td>\n",
       "      <td>[$0, $27181, $62000, $19039]</td>\n",
       "    </tr>\n",
       "    <tr>\n",
       "      <th>6</th>\n",
       "      <td>ssla_company_defendants</td>\n",
       "      <td>[Catalyst Pharmaceutical Partners, Inc., Juniper Networks, Inc., Electronic Arts Inc.]</td>\n",
       "    </tr>\n",
       "    <tr>\n",
       "      <th>7</th>\n",
       "      <td>ssla_individual_defendants</td>\n",
       "      <td>[Patrick  J McEnany\\nHubert  E Huckel\\nSteven  R Miller, Andrew Wilson\\nBlake J. Jorgensen\\nPeter Robert Moore\\nFrank D. Gibeau\\nPatrick Soderlund, Kevin R. Johnson\\nPradeep Sindhu\\nRobyn M. Denholm\\nGene Zamiska]</td>\n",
       "    </tr>\n",
       "    <tr>\n",
       "      <th>8</th>\n",
       "      <td>ssla_plaintiff</td>\n",
       "      <td>[['Ruth C May', 'Donna E Ledgerwood'], ['Ryan Kelly'], ['Not named']]</td>\n",
       "    </tr>\n",
       "    <tr>\n",
       "      <th>9</th>\n",
       "      <td>successor_liability</td>\n",
       "      <td>[de facto merger,mere continuation, mere continuation,fraudulent conveyance, express agreement]</td>\n",
       "    </tr>\n",
       "    <tr>\n",
       "      <th>10</th>\n",
       "      <td>unfair_tos</td>\n",
       "      <td>[Unilateral change, Content removal, Choice of law, Unilateral termination, Limitation of liability, Arbitration, Contract by using, Jurisdiction, Other]</td>\n",
       "    </tr>\n",
       "  </tbody>\n",
       "</table>\n",
       "</div>"
      ],
      "text/plain": [
       "                              task  \\\n",
       "0                      abercrombie   \n",
       "1        canada_tax_court_outcomes   \n",
       "2            definition_extraction   \n",
       "3     function_of_decision_section   \n",
       "4   oral_argument_question_purpose   \n",
       "5                     sara_numeric   \n",
       "6          ssla_company_defendants   \n",
       "7       ssla_individual_defendants   \n",
       "8                   ssla_plaintiff   \n",
       "9              successor_liability   \n",
       "10                      unfair_tos   \n",
       "\n",
       "                                                                                                                                                                                                                   labels  \n",
       "0                                                                                                                                                                 [arbitrary, fanciful, generic, descriptive, suggestive]  \n",
       "1                                                                                                                                                                                             [dismissed, other, allowed]  \n",
       "2                                                                                                                              [hawkers and peddlers, banking, assessment, information, decision, statute, traffic, land]  \n",
       "3                                                                                                                                                  [Analysis, Procedural History, Conclusion, Issue, Decree, Rule, Facts]  \n",
       "4                                                                                                                                       [Criticism, Clarification, Support, Humor, Implications, Background, Communicate]  \n",
       "5                                                                                                                                                                                            [$0, $27181, $62000, $19039]  \n",
       "6                                                                                                                                  [Catalyst Pharmaceutical Partners, Inc., Juniper Networks, Inc., Electronic Arts Inc.]  \n",
       "7   [Patrick  J McEnany\\nHubert  E Huckel\\nSteven  R Miller, Andrew Wilson\\nBlake J. Jorgensen\\nPeter Robert Moore\\nFrank D. Gibeau\\nPatrick Soderlund, Kevin R. Johnson\\nPradeep Sindhu\\nRobyn M. Denholm\\nGene Zamiska]  \n",
       "8                                                                                                                                                   [['Ruth C May', 'Donna E Ledgerwood'], ['Ryan Kelly'], ['Not named']]  \n",
       "9                                                                                                                         [de facto merger,mere continuation, mere continuation,fraudulent conveyance, express agreement]  \n",
       "10                                                              [Unilateral change, Content removal, Choice of law, Unilateral termination, Limitation of liability, Arbitration, Contract by using, Jurisdiction, Other]  "
      ]
     },
     "execution_count": 35,
     "metadata": {},
     "output_type": "execute_result"
    }
   ],
   "source": [
    "df = show_tasks_by_type('multi_class')\n",
    "df.head(len(df))"
   ]
  },
  {
   "cell_type": "code",
   "execution_count": 36,
   "id": "72e9cc26-436b-4b43-abe3-0e47a1b2c30c",
   "metadata": {},
   "outputs": [
    {
     "name": "stdout",
     "output_type": "stream",
     "text": [
      "36 tasks with type: multiple_choice\n"
     ]
    },
    {
     "data": {
      "text/html": [
       "<div>\n",
       "<style scoped>\n",
       "    .dataframe tbody tr th:only-of-type {\n",
       "        vertical-align: middle;\n",
       "    }\n",
       "\n",
       "    .dataframe tbody tr th {\n",
       "        vertical-align: top;\n",
       "    }\n",
       "\n",
       "    .dataframe thead th {\n",
       "        text-align: right;\n",
       "    }\n",
       "</style>\n",
       "<table border=\"1\" class=\"dataframe\">\n",
       "  <thead>\n",
       "    <tr style=\"text-align: right;\">\n",
       "      <th></th>\n",
       "      <th>task</th>\n",
       "      <th>labels</th>\n",
       "    </tr>\n",
       "  </thead>\n",
       "  <tbody>\n",
       "    <tr>\n",
       "      <th>0</th>\n",
       "      <td>insurance_policy_interpretation</td>\n",
       "      <td>[A, C, B]</td>\n",
       "    </tr>\n",
       "    <tr>\n",
       "      <th>1</th>\n",
       "      <td>maud_\"ability_to_consummate\"_concept_is_subject_to_mae_carveouts</td>\n",
       "      <td>[A]</td>\n",
       "    </tr>\n",
       "    <tr>\n",
       "      <th>2</th>\n",
       "      <td>maud_\"financial_point_of_view\"_is_the_sole_consideration</td>\n",
       "      <td>[A]</td>\n",
       "    </tr>\n",
       "    <tr>\n",
       "      <th>3</th>\n",
       "      <td>maud_accuracy_of_fundamental_target_r&amp;ws:_bringdown_standard</td>\n",
       "      <td>[A]</td>\n",
       "    </tr>\n",
       "    <tr>\n",
       "      <th>4</th>\n",
       "      <td>maud_accuracy_of_target_\"general\"_r&amp;w:_bringdown_timing_answer</td>\n",
       "      <td>[A]</td>\n",
       "    </tr>\n",
       "    <tr>\n",
       "      <th>5</th>\n",
       "      <td>maud_accuracy_of_target_capitalization_r&amp;w_(outstanding_shares):_bringdown_standard_answer</td>\n",
       "      <td>[D]</td>\n",
       "    </tr>\n",
       "    <tr>\n",
       "      <th>6</th>\n",
       "      <td>maud_additional_matching_rights_period_for_modifications_(cor)</td>\n",
       "      <td>[A]</td>\n",
       "    </tr>\n",
       "    <tr>\n",
       "      <th>7</th>\n",
       "      <td>maud_application_of_buyer_consent_requirement_(negative_interim_covenant)</td>\n",
       "      <td>[B]</td>\n",
       "    </tr>\n",
       "    <tr>\n",
       "      <th>8</th>\n",
       "      <td>maud_buyer_consent_requirement_(negative_interim_covenant)</td>\n",
       "      <td>[A]</td>\n",
       "    </tr>\n",
       "    <tr>\n",
       "      <th>9</th>\n",
       "      <td>maud_buyer_consent_requirement_(ordinary_course)</td>\n",
       "      <td>[A]</td>\n",
       "    </tr>\n",
       "    <tr>\n",
       "      <th>10</th>\n",
       "      <td>maud_change_in_law:__subject_to_\"disproportionate_impact\"_modifier</td>\n",
       "      <td>[B]</td>\n",
       "    </tr>\n",
       "    <tr>\n",
       "      <th>11</th>\n",
       "      <td>maud_changes_in_gaap_or_other_accounting_principles:__subject_to_\"disproportionate_impact\"_modifier</td>\n",
       "      <td>[B]</td>\n",
       "    </tr>\n",
       "    <tr>\n",
       "      <th>12</th>\n",
       "      <td>maud_cor_permitted_in_response_to_intervening_event</td>\n",
       "      <td>[B]</td>\n",
       "    </tr>\n",
       "    <tr>\n",
       "      <th>13</th>\n",
       "      <td>maud_cor_permitted_with_board_fiduciary_determination_only</td>\n",
       "      <td>[A]</td>\n",
       "    </tr>\n",
       "    <tr>\n",
       "      <th>14</th>\n",
       "      <td>maud_cor_standard_(intervening_event)</td>\n",
       "      <td>[I]</td>\n",
       "    </tr>\n",
       "    <tr>\n",
       "      <th>15</th>\n",
       "      <td>maud_cor_standard_(superior_offer)</td>\n",
       "      <td>[B]</td>\n",
       "    </tr>\n",
       "    <tr>\n",
       "      <th>16</th>\n",
       "      <td>maud_definition_contains_knowledge_requirement_-_answer</td>\n",
       "      <td>[A]</td>\n",
       "    </tr>\n",
       "    <tr>\n",
       "      <th>17</th>\n",
       "      <td>maud_definition_includes_asset_deals</td>\n",
       "      <td>[B]</td>\n",
       "    </tr>\n",
       "    <tr>\n",
       "      <th>18</th>\n",
       "      <td>maud_definition_includes_stock_deals</td>\n",
       "      <td>[C]</td>\n",
       "    </tr>\n",
       "    <tr>\n",
       "      <th>19</th>\n",
       "      <td>maud_fiduciary_exception:__board_determination_standard</td>\n",
       "      <td>[H]</td>\n",
       "    </tr>\n",
       "    <tr>\n",
       "      <th>20</th>\n",
       "      <td>maud_fiduciary_exception:_board_determination_trigger_(no_shop)</td>\n",
       "      <td>[B]</td>\n",
       "    </tr>\n",
       "    <tr>\n",
       "      <th>21</th>\n",
       "      <td>maud_fls_(mae)_standard</td>\n",
       "      <td>[C]</td>\n",
       "    </tr>\n",
       "    <tr>\n",
       "      <th>22</th>\n",
       "      <td>maud_general_economic_and_financial_conditions:_subject_to_\"disproportionate_impact\"_modifier</td>\n",
       "      <td>[B]</td>\n",
       "    </tr>\n",
       "    <tr>\n",
       "      <th>23</th>\n",
       "      <td>maud_includes_\"consistent_with_past_practice\"</td>\n",
       "      <td>[A]</td>\n",
       "    </tr>\n",
       "    <tr>\n",
       "      <th>24</th>\n",
       "      <td>maud_initial_matching_rights_period_(cor)</td>\n",
       "      <td>[F]</td>\n",
       "    </tr>\n",
       "    <tr>\n",
       "      <th>25</th>\n",
       "      <td>maud_initial_matching_rights_period_(ftr)</td>\n",
       "      <td>[D]</td>\n",
       "    </tr>\n",
       "    <tr>\n",
       "      <th>26</th>\n",
       "      <td>maud_intervening_event_-_required_to_occur_after_signing_-_answer</td>\n",
       "      <td>[A]</td>\n",
       "    </tr>\n",
       "    <tr>\n",
       "      <th>27</th>\n",
       "      <td>maud_knowledge_definition</td>\n",
       "      <td>[B]</td>\n",
       "    </tr>\n",
       "    <tr>\n",
       "      <th>28</th>\n",
       "      <td>maud_liability_standard_for_no-shop_breach_by_target_non-d&amp;o_representatives</td>\n",
       "      <td>[B]</td>\n",
       "    </tr>\n",
       "    <tr>\n",
       "      <th>29</th>\n",
       "      <td>maud_ordinary_course_efforts_standard</td>\n",
       "      <td>[B]</td>\n",
       "    </tr>\n",
       "    <tr>\n",
       "      <th>30</th>\n",
       "      <td>maud_pandemic_or_other_public_health_event:__subject_to_\"disproportionate_impact\"_modifier</td>\n",
       "      <td>[B]</td>\n",
       "    </tr>\n",
       "    <tr>\n",
       "      <th>31</th>\n",
       "      <td>maud_pandemic_or_other_public_health_event:_specific_reference_to_pandemic-related_governmental_responses_or_measures</td>\n",
       "      <td>[A]</td>\n",
       "    </tr>\n",
       "    <tr>\n",
       "      <th>32</th>\n",
       "      <td>maud_relational_language_(mae)_applies_to</td>\n",
       "      <td>[A]</td>\n",
       "    </tr>\n",
       "    <tr>\n",
       "      <th>33</th>\n",
       "      <td>maud_specific_performance</td>\n",
       "      <td>[B]</td>\n",
       "    </tr>\n",
       "    <tr>\n",
       "      <th>34</th>\n",
       "      <td>maud_tail_period_length</td>\n",
       "      <td>[C]</td>\n",
       "    </tr>\n",
       "    <tr>\n",
       "      <th>35</th>\n",
       "      <td>maud_type_of_consideration</td>\n",
       "      <td>[A]</td>\n",
       "    </tr>\n",
       "  </tbody>\n",
       "</table>\n",
       "</div>"
      ],
      "text/plain": [
       "                                                                                                                     task  \\\n",
       "0                                                                                         insurance_policy_interpretation   \n",
       "1                                                        maud_\"ability_to_consummate\"_concept_is_subject_to_mae_carveouts   \n",
       "2                                                                maud_\"financial_point_of_view\"_is_the_sole_consideration   \n",
       "3                                                            maud_accuracy_of_fundamental_target_r&ws:_bringdown_standard   \n",
       "4                                                          maud_accuracy_of_target_\"general\"_r&w:_bringdown_timing_answer   \n",
       "5                              maud_accuracy_of_target_capitalization_r&w_(outstanding_shares):_bringdown_standard_answer   \n",
       "6                                                          maud_additional_matching_rights_period_for_modifications_(cor)   \n",
       "7                                               maud_application_of_buyer_consent_requirement_(negative_interim_covenant)   \n",
       "8                                                              maud_buyer_consent_requirement_(negative_interim_covenant)   \n",
       "9                                                                        maud_buyer_consent_requirement_(ordinary_course)   \n",
       "10                                                     maud_change_in_law:__subject_to_\"disproportionate_impact\"_modifier   \n",
       "11                    maud_changes_in_gaap_or_other_accounting_principles:__subject_to_\"disproportionate_impact\"_modifier   \n",
       "12                                                                    maud_cor_permitted_in_response_to_intervening_event   \n",
       "13                                                             maud_cor_permitted_with_board_fiduciary_determination_only   \n",
       "14                                                                                  maud_cor_standard_(intervening_event)   \n",
       "15                                                                                     maud_cor_standard_(superior_offer)   \n",
       "16                                                                maud_definition_contains_knowledge_requirement_-_answer   \n",
       "17                                                                                   maud_definition_includes_asset_deals   \n",
       "18                                                                                   maud_definition_includes_stock_deals   \n",
       "19                                                                maud_fiduciary_exception:__board_determination_standard   \n",
       "20                                                        maud_fiduciary_exception:_board_determination_trigger_(no_shop)   \n",
       "21                                                                                                maud_fls_(mae)_standard   \n",
       "22                          maud_general_economic_and_financial_conditions:_subject_to_\"disproportionate_impact\"_modifier   \n",
       "23                                                                          maud_includes_\"consistent_with_past_practice\"   \n",
       "24                                                                              maud_initial_matching_rights_period_(cor)   \n",
       "25                                                                              maud_initial_matching_rights_period_(ftr)   \n",
       "26                                                      maud_intervening_event_-_required_to_occur_after_signing_-_answer   \n",
       "27                                                                                              maud_knowledge_definition   \n",
       "28                                           maud_liability_standard_for_no-shop_breach_by_target_non-d&o_representatives   \n",
       "29                                                                                  maud_ordinary_course_efforts_standard   \n",
       "30                             maud_pandemic_or_other_public_health_event:__subject_to_\"disproportionate_impact\"_modifier   \n",
       "31  maud_pandemic_or_other_public_health_event:_specific_reference_to_pandemic-related_governmental_responses_or_measures   \n",
       "32                                                                              maud_relational_language_(mae)_applies_to   \n",
       "33                                                                                              maud_specific_performance   \n",
       "34                                                                                                maud_tail_period_length   \n",
       "35                                                                                             maud_type_of_consideration   \n",
       "\n",
       "       labels  \n",
       "0   [A, C, B]  \n",
       "1         [A]  \n",
       "2         [A]  \n",
       "3         [A]  \n",
       "4         [A]  \n",
       "5         [D]  \n",
       "6         [A]  \n",
       "7         [B]  \n",
       "8         [A]  \n",
       "9         [A]  \n",
       "10        [B]  \n",
       "11        [B]  \n",
       "12        [B]  \n",
       "13        [A]  \n",
       "14        [I]  \n",
       "15        [B]  \n",
       "16        [A]  \n",
       "17        [B]  \n",
       "18        [C]  \n",
       "19        [H]  \n",
       "20        [B]  \n",
       "21        [C]  \n",
       "22        [B]  \n",
       "23        [A]  \n",
       "24        [F]  \n",
       "25        [D]  \n",
       "26        [A]  \n",
       "27        [B]  \n",
       "28        [B]  \n",
       "29        [B]  \n",
       "30        [B]  \n",
       "31        [A]  \n",
       "32        [A]  \n",
       "33        [B]  \n",
       "34        [C]  \n",
       "35        [A]  "
      ]
     },
     "execution_count": 36,
     "metadata": {},
     "output_type": "execute_result"
    }
   ],
   "source": [
    "df = show_tasks_by_type('multiple_choice')\n",
    "df.head(len(df))"
   ]
  },
  {
   "cell_type": "code",
   "execution_count": 37,
   "id": "933ff423-82f6-4185-a241-0002a2b8e9a8",
   "metadata": {},
   "outputs": [
    {
     "name": "stdout",
     "output_type": "stream",
     "text": [
      "2 tasks with type: no_label\n"
     ]
    },
    {
     "data": {
      "text/html": [
       "<div>\n",
       "<style scoped>\n",
       "    .dataframe tbody tr th:only-of-type {\n",
       "        vertical-align: middle;\n",
       "    }\n",
       "\n",
       "    .dataframe tbody tr th {\n",
       "        vertical-align: top;\n",
       "    }\n",
       "\n",
       "    .dataframe thead th {\n",
       "        text-align: right;\n",
       "    }\n",
       "</style>\n",
       "<table border=\"1\" class=\"dataframe\">\n",
       "  <thead>\n",
       "    <tr style=\"text-align: right;\">\n",
       "      <th></th>\n",
       "      <th>task</th>\n",
       "      <th>labels</th>\n",
       "    </tr>\n",
       "  </thead>\n",
       "  <tbody>\n",
       "    <tr>\n",
       "      <th>0</th>\n",
       "      <td>rule_qa</td>\n",
       "      <td>[]</td>\n",
       "    </tr>\n",
       "    <tr>\n",
       "      <th>1</th>\n",
       "      <td>scalr</td>\n",
       "      <td>[]</td>\n",
       "    </tr>\n",
       "  </tbody>\n",
       "</table>\n",
       "</div>"
      ],
      "text/plain": [
       "      task labels\n",
       "0  rule_qa     []\n",
       "1    scalr     []"
      ]
     },
     "execution_count": 37,
     "metadata": {},
     "output_type": "execute_result"
    }
   ],
   "source": [
    "df = show_tasks_by_type('no_label')\n",
    "df.head(len(df))"
   ]
  },
  {
   "cell_type": "code",
   "execution_count": 38,
   "id": "a1e048ff-25d8-4b3a-8d78-a6427e5db4c1",
   "metadata": {},
   "outputs": [],
   "source": [
    "with open('task_label_dict.json', 'w') as f:\n",
    "    json.dump(label_dict, f)"
   ]
  },
  {
   "cell_type": "markdown",
   "id": "e8095276-cab6-4e49-9777-9ec5d492390c",
   "metadata": {},
   "source": [
    "## Creating Dataset with 'source' and 'target' for LLM FineTuning"
   ]
  },
  {
   "cell_type": "code",
   "execution_count": 32,
   "id": "c4923dfc-d22c-4ed1-85e5-14379e7db811",
   "metadata": {},
   "outputs": [],
   "source": [
    "# the dataset combines task-level train.tsv files into 4 columns: task_summary, task_description, source, target\n",
    "# task_summary: taken from the Task Summary section of the corresponding README.md file\n",
    "# task_description: taken from the Task Description section of the corresponding README.md file\n",
    "# source: the clause, or question\n",
    "# target: the response (yes/no etc.)"
   ]
  },
  {
   "cell_type": "code",
   "execution_count": 33,
   "id": "79ba1605-bf4a-4032-b89c-008f76b60661",
   "metadata": {},
   "outputs": [],
   "source": [
    "with open('task_label_dict.json', 'r') as f:\n",
    "    task_label_dict = json.load(f)"
   ]
  },
  {
   "cell_type": "code",
   "execution_count": 40,
   "id": "f5373bd8-73eb-468d-b142-26ee34b2d0d5",
   "metadata": {},
   "outputs": [],
   "source": [
    "def get_task_summary_and_description(readme_path):\n",
    "    with open(readme_path, 'r') as f:\n",
    "        readme_lines = [line for line in f.read().splitlines() if line.strip()]\n",
    "    task_summary, task_description = '', ''\n",
    "    desc_heading_index = None\n",
    "    \n",
    "    dataset_construction_header_index = len(readme_lines)\n",
    "    for i, line in enumerate(readme_lines):\n",
    "        if '**Task summary**' in line:\n",
    "            task_summary = line.split(':', 1)[-1].strip()\n",
    "        if '## Task Description' in line:\n",
    "            desc_heading_index = i\n",
    "        if '## Dataset Construction' in line:\n",
    "            dataset_construction_header_index = i\n",
    "            break\n",
    "    \n",
    "    if desc_heading_index:\n",
    "        # for task description, get all lines from desc_heading_index+1 until dataset_construction_header_index-1\n",
    "        task_description = '\\n'.join(readme_lines[desc_heading_index+1:dataset_construction_header_index]).strip()\n",
    "    return task_summary, task_description"
   ]
  },
  {
   "cell_type": "code",
   "execution_count": 41,
   "id": "c47c41d9-36b1-4f3d-be3d-bd0b676e1d98",
   "metadata": {},
   "outputs": [
    {
     "name": "stderr",
     "output_type": "stream",
     "text": [
      "100%|███████████████████████████████████████| 164/164 [00:00<00:00, 9359.23it/s]"
     ]
    },
    {
     "name": "stdout",
     "output_type": "stream",
     "text": [
      "could not generate task summary and description for task README.md: NotADirectoryError(20, 'Not a directory')\n"
     ]
    },
    {
     "name": "stderr",
     "output_type": "stream",
     "text": [
      "\n"
     ]
    }
   ],
   "source": [
    "task_summary_description_dict = {}\n",
    "\n",
    "for task in tqdm(os.listdir(tasks_dir)):\n",
    "    task_summary, task_description = '', ''\n",
    "    try:\n",
    "        task_dir = os.path.join(tasks_dir, task)\n",
    "        # train_file_path = os.path.join(task_dir, 'train.tsv')\n",
    "        # prompt_file_path = os.path.join(task_dir, 'base_prompt.txt')\n",
    "        readme_file_path = os.path.join(task_dir, 'README.md')\n",
    "\n",
    "        task_summary, task_description = get_task_summary_and_description(readme_file_path)\n",
    "    except Exception as e:\n",
    "        print('could not generate task summary and description for task {}: {}'.format(task, repr(e)))\n",
    "    task_summary_description_dict[task] = {'summary': task_summary, 'description': task_description}"
   ]
  },
  {
   "cell_type": "code",
   "execution_count": 42,
   "id": "19a3286e-9423-4f75-8599-75132887b970",
   "metadata": {},
   "outputs": [],
   "source": [
    "with open('task_summary_description.json', 'w') as f:\n",
    "    json.dump(task_summary_description_dict, f, indent=4)"
   ]
  },
  {
   "cell_type": "code",
   "execution_count": null,
   "id": "e4a01ff2-cec4-4eaa-8b80-04115595ea47",
   "metadata": {},
   "outputs": [],
   "source": []
  }
 ],
 "metadata": {
  "kernelspec": {
   "display_name": "legal-llm-hack",
   "language": "python",
   "name": "legal-llm-hack"
  },
  "language_info": {
   "codemirror_mode": {
    "name": "ipython",
    "version": 3
   },
   "file_extension": ".py",
   "mimetype": "text/x-python",
   "name": "python",
   "nbconvert_exporter": "python",
   "pygments_lexer": "ipython3",
   "version": "3.8.16"
  }
 },
 "nbformat": 4,
 "nbformat_minor": 5
}
